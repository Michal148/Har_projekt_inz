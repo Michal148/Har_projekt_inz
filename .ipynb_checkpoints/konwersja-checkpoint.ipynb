{
 "cells": [
  {
   "cell_type": "code",
   "execution_count": null,
   "id": "a36ec110",
   "metadata": {},
   "outputs": [],
   "source": [
    "import pandas as pd\n",
    "\n",
    "# algorytm użyty w celu ujednolicenia pomiarów z Android oraz IOS\n",
    "\n",
    "def ios_conversion(data):\n",
    "    if data['platform'][0] == \"apple\":\n",
    "        return data\n",
    "    \n",
    "    else:\n",
    "        data['x'] = data['x'].astype(float) \n",
    "        data['y'] = -data['y'].astype(float) \n",
    "        data['z'] = data['z'].astype(float)  \n",
    "\n",
    "        return data"
   ]
  }
 ],
 "metadata": {
  "kernelspec": {
   "display_name": "Python 3 (ipykernel)",
   "language": "python",
   "name": "python3"
  },
  "language_info": {
   "codemirror_mode": {
    "name": "ipython",
    "version": 3
   },
   "file_extension": ".py",
   "mimetype": "text/x-python",
   "name": "python",
   "nbconvert_exporter": "python",
   "pygments_lexer": "ipython3",
   "version": "3.9.16"
  }
 },
 "nbformat": 4,
 "nbformat_minor": 5
}
