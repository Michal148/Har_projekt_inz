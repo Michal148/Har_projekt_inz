{
 "cells": [
  {
   "cell_type": "code",
   "execution_count": null,
   "id": "a36ec110",
   "metadata": {},
   "outputs": [],
   "source": [
    "import pandas as pd\n",
    "\n",
    "# algorytm użyty w celu ujednolicenia pomiarów z Android oraz IOS\n",
    "# Odczytaj Data frame, sprawdź platformę. Jeśli urządzenie to Android, zmień znak danych w kolumnie Z.\n",
    "# podziel przez przyspieszenie ziemskie g\n",
    "\n",
    "def ios_conversion(data):\n",
    "    if data['platform'][0] == \"apple\":\n",
    "        return data\n",
    "    \n",
    "    else:\n",
    "        data['x'] = data['x'].astype(float) / 9.80665\n",
    "        data['y'] = -data['y'].astype(float) / 9.80665\n",
    "        data['z'] = data['z'].astype(float) / 9.80665\n",
    "        data['mag'] = data['mag'].astype(float) / 9.80665\n",
    "        \n",
    "        data['lagX0'] = data['lagX0'].astype(float) / 9.80665\n",
    "        data['lagY0'] = -data['lagY0'].astype(float) / 9.80665\n",
    "        data['lagZ0'] = data['lagZ0'].astype(float) / 9.80665\n",
    "\n",
    "        data['lagX1'].iloc[1:] = data['lagX1'].iloc[1:].astype(float) / 9.80665\n",
    "        data['lagY1'].iloc[1:] = -data['lagY1'].iloc[1:].astype(float) / 9.80665\n",
    "        data['lagZ1'].iloc[1:] = data['lagZ1'].iloc[1:].astype(float) / 9.80665\n",
    "\n",
    "        data['lagX2'].iloc[2:] = data['lagX2'].iloc[2:].astype(float) / 9.80665\n",
    "        data['lagY2'].iloc[2:] = -data['lagY2'].iloc[2:].astype(float) / 9.80665\n",
    "        data['lagZ2'].iloc[2:] = data['lagZ2'].iloc[2:].astype(float) / 9.80665\n",
    "\n",
    "        if 'jerkX' in data.columns:\n",
    "            data['jerkX'].iloc[:-1] = data['jerkX'].iloc[:-1].astype(float) / 9.80665\n",
    "            data['jerkY'].iloc[:-1] = -data['jerkY'].iloc[:-1].astype(float)  / 9.80665\n",
    "            data['jerkZ'].iloc[:-1] = data['jerkZ'].iloc[:-1].astype(float) / 9.80665\n",
    "            data['jerkMag'].iloc[:-1] = data['jerkMag'].iloc[:-1].astype(float)  / 9.80665\n",
    "\n",
    "        return data"
   ]
  }
 ],
 "metadata": {
  "kernelspec": {
   "display_name": "Python 3 (ipykernel)",
   "language": "python",
   "name": "python3"
  },
  "language_info": {
   "codemirror_mode": {
    "name": "ipython",
    "version": 3
   },
   "file_extension": ".py",
   "mimetype": "text/x-python",
   "name": "python",
   "nbconvert_exporter": "python",
   "pygments_lexer": "ipython3",
   "version": "3.9.16"
  }
 },
 "nbformat": 4,
 "nbformat_minor": 5
}
