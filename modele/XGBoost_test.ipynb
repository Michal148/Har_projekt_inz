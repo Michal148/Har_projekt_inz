{
 "cells": [
  {
   "cell_type": "code",
   "execution_count": null,
   "id": "610f2794",
   "metadata": {},
   "outputs": [],
   "source": [
    "import pandas as pd\n",
    "from sklearn.model_selection import train_test_split\n",
    "from sklearn.feature_selection import SelectKBest, f_classif\n",
    "from sklearn.model_selection import train_test_split, GridSearchCV\n",
    "from sklearn.metrics import accuracy_score, classification_report, confusion_matrix\n",
    "from sklearn.preprocessing import LabelEncoder\n",
    "import warnings\n",
    "import joblib\n",
    "import seaborn as sns\n",
    "import matplotlib.pyplot as plt\n",
    "pd.options.mode.chained_assignment = None\n",
    "warnings.filterwarnings('ignore')\n",
    "\n",
    "data = pd.read_csv('fifth-run/feats_version_5_22_acc.csv')\n",
    "data = data[~data[\"activity\"].str.contains(\"jogging\")]\n",
    "data[\"activity\"] = data[\"activity\"].replace([\"sitting\", \"lying\"], \"resting\")\n",
    "result = data[data[\"name\"].str.contains(\"kuba\")]\n",
    "result_train = data[data[\"name\"].str.contains(\"kuba\") == False]\n",
    "result_train.drop('name', axis=1, inplace=True)\n",
    "result.drop('name', axis=1, inplace=True)\n",
    "X_train = result_train.iloc[:, :-1].values\n",
    "y_train = result_train.iloc[:, -1].values\n",
    "X_test = result.iloc[:, :-1].values\n",
    "y_test = result.iloc[:, -1].values\n",
    "X_val, X_test, y_val, y_test= train_test_split(X_test, y_test, test_size=0.5, random_state=42)\n",
    "\n",
    "label_encoder = LabelEncoder()\n",
    "labels_train1 = label_encoder.fit_transform(y_train)\n",
    "labels_test1 = label_encoder.transform(y_test)"
   ]
  },
  {
   "cell_type": "code",
   "execution_count": null,
   "id": "2108bc87",
   "metadata": {},
   "outputs": [],
   "source": [
    "classifier = joblib.load('XGBoost.h5')\n",
    "y_pred = classifier.predict(X_test)\n",
    "\n",
    "class_mapping = {\n",
    "    0: \"schodzenie\",\n",
    "    1: \"odpoczynek\",\n",
    "    2: \"przysiady\",\n",
    "    3: \"stanie\",\n",
    "    4: \"wchodzenie\",\n",
    "    5:  \"chodzenie\"  }\n",
    "\n",
    "listt =[]\n",
    "for key in class_mapping.values():\n",
    "    listt.append(key)\n",
    "    \n",
    "print(f\"Accuracy:\",accuracy_score(labels_test1, y_pred))\n",
    "print(\"Overall Classification Report:\\n\", classification_report(labels_test1, y_pred,target_names=listt))\n",
    "confusion_mtx = confusion_matrix(labels_test1, y_pred)\n",
    "plt.figure(figsize=(8, 6))\n",
    "sns.heatmap(confusion_mtx, annot=True, fmt='d', cmap='Blues', xticklabels=listt, yticklabels=listt)\n",
    "plt.xlabel('Przewidziana aktywność')\n",
    "plt.ylabel('Rzeczywista aktywność')\n",
    "plt.title('Macierz błędów')\n",
    "plt.show()"
   ]
  }
 ],
 "metadata": {
  "kernelspec": {
   "display_name": "Python 3 (ipykernel)",
   "language": "python",
   "name": "python3"
  },
  "language_info": {
   "codemirror_mode": {
    "name": "ipython",
    "version": 3
   },
   "file_extension": ".py",
   "mimetype": "text/x-python",
   "name": "python",
   "nbconvert_exporter": "python",
   "pygments_lexer": "ipython3",
   "version": "3.9.16"
  }
 },
 "nbformat": 4,
 "nbformat_minor": 5
}
