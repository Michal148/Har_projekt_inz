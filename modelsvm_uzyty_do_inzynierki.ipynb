{
 "cells": [
  {
   "cell_type": "code",
   "execution_count": 9,
   "id": "8c45780e",
   "metadata": {},
   "outputs": [
    {
     "name": "stdout",
     "output_type": "stream",
     "text": [
      "Accuracy: 0.7707979626485568\n"
     ]
    },
    {
     "data": {
      "text/plain": [
       "['modelsvm.h5']"
      ]
     },
     "execution_count": 9,
     "metadata": {},
     "output_type": "execute_result"
    }
   ],
   "source": [
    "from sklearn import svm\n",
    "import pandas as pd\n",
    "from sklearn.model_selection import train_test_split\n",
    "from sklearn.feature_selection import SelectKBest\n",
    "from sklearn.feature_selection import f_classif\n",
    "from sklearn.tree import DecisionTreeClassifier\n",
    "from sklearn.model_selection import train_test_split\n",
    "from sklearn.metrics import accuracy_score\n",
    "from sklearn.model_selection import GridSearchCV\n",
    "from sklearn.svm import SVC\n",
    "from sklearn.metrics import classification_report, confusion_matrix\n",
    "pd.options.mode.chained_assignment = None\n",
    "import warnings\n",
    "warnings.filterwarnings('ignore')\n",
    "\n",
    "#data = pd.read_csv(\"fifth-run/feats_version_5_1_acc.csv\",  usecols = ['acc_x_autoregyw_1', 'acc_y_autoregyw_1', 'acc_y_entropy', 'acc_x_entropy', 'acc_z_autoregyw_1', 'acc_z_entropy', 'acc_z_skewness_t', 'acc_y_corecoef', 'acc_x_corecoef', 'acc_x_skewness_t', 'acc_y_skewness_t', 'acc_y_autoregburg_4', 'acc_x_top3', 'acc_x_kurtosis_t', 'acc_y_kurtosis_t', 'acc_z_corecoef', 'acc_z_crossco', 'acc_x_autoregburg_4', 'acc_z_autoregburg_4', 'acc_y_top3', 'acc_x_crossco', 'acc_z_mean', 'acc_y_mean', 'acc_x_autoregburg_1', 'acc_y_one_quarter', 'acc_y_stdev', 'acc_z_stdev', 'acc_y_enwacto_5',  'acc_y_enwacto_6', 'acc_x_enwacto_5', 'acc_y_enwacto_7', 'acc_z_enwacto_6', 'acc_y_enwacto_4', 'acc_z_enwacto_5', 'acc_y_enwacto_2', 'acc_x_stdev', 'acc_z_enwacto_7', 'acc_x_enwacto_6', 'name','activity'])\n",
    "data = pd.read_csv('fifth-run/feats_version_5_22_acc.csv')\n",
    "data = data[~data[\"activity\"].str.contains(\"jogging\")]\n",
    "data[\"activity\"] = data[\"activity\"].replace([\"sitting\", \"lying\"], \"resting\")\n",
    "\n",
    "result = data[data[\"name\"].str.contains(\"kuba\")]\n",
    "\n",
    "result_train = data[data[\"name\"].str.contains(\"kuba\") == False]\n",
    "\n",
    "\n",
    "result_train.drop('name', axis=1, inplace=True)\n",
    "result.drop('name', axis=1, inplace=True)\n",
    "\n",
    "X_train = result_train.iloc[:, :-1].values\n",
    "y_train = result_train.iloc[:, -1].values\n",
    "\n",
    "X_test = result.iloc[:, :-1].values\n",
    "y_test = result.iloc[:, -1].values\n",
    "\n",
    "\n",
    "import joblib\n",
    "from sklearn import svm\n",
    "from sklearn.model_selection import train_test_split\n",
    "from sklearn.metrics import accuracy_score\n",
    "\n",
    "# Przykładowe dane\n",
    "# X_train, X_test, y_train, y_test = train_test_split(X, y, test_size=0.2, random_state=42)\n",
    "\n",
    "# Tworzenie i trenowanie modelu SVM\n",
    "classifier = svm.SVC(kernel='linear', C=0.001, max_iter=50000)\n",
    "classifier.fit(X_train, y_train)\n",
    "\n",
    "# Predykcja na danych testowych\n",
    "y_pred = classifier.predict(X_test)\n",
    "\n",
    "# Ocen dokładność modelu\n",
    "accuracy = accuracy_score(y_test, y_pred)\n",
    "print(f\"Accuracy: {accuracy}\")\n",
    "\n",
    "# Zapisz model do pliku\n",
    "joblib.dump(classifier, 'modelsvm.h5')\n",
    "\n",
    "\n",
    "\n",
    "#from xgboost import XGBClassifier\n",
    "#classifier = svm.SVC(kernel='linear', C = 0.001, max_iter = 50000 )\n",
    "#classifier = XGBClassifier()\n",
    "#classifier.fit(X_train, y_train)\n",
    "#y_pred = classifier.predict(X_test)\n",
    "#print(f\"accuracy:\",accuracy_score(y_test, y_pred))\n",
    "\n",
    "#wagi na poddstawie liczebności\n",
    "#print(classification_report(y_test, y_pred), \"\\n\\n\\n\")"
   ]
  },
  {
   "cell_type": "code",
   "execution_count": 7,
   "id": "ce366dc7",
   "metadata": {
    "scrolled": true
   },
   "outputs": [
    {
     "name": "stdout",
     "output_type": "stream",
     "text": [
      "Classification Report:\n",
      "               precision    recall  f1-score   support\n",
      "\n",
      "  downstairs       0.55      0.83      0.66        35\n",
      "     resting       1.00      0.72      0.84       209\n",
      "      squats       0.58      0.45      0.51        71\n",
      "    standing       0.67      1.00      0.80        71\n",
      "    upstairs       0.09      0.07      0.08        27\n",
      "     walking       0.84      0.96      0.89       176\n",
      "\n",
      "    accuracy                           0.77       589\n",
      "   macro avg       0.62      0.67      0.63       589\n",
      "weighted avg       0.79      0.77      0.77       589\n",
      "\n",
      "Confusion Matrix:\n",
      " [[ 29   0   0   0   1   5]\n",
      " [  0 151  23  35   0   0]\n",
      " [  0   0  32   0  19  20]\n",
      " [  0   0   0  71   0   0]\n",
      " [ 17   0   0   0   2   8]\n",
      " [  7   0   0   0   0 169]]\n"
     ]
    },
    {
     "ename": "NameError",
     "evalue": "name 'plt' is not defined",
     "output_type": "error",
     "traceback": [
      "\u001b[1;31m---------------------------------------------------------------------------\u001b[0m",
      "\u001b[1;31mNameError\u001b[0m                                 Traceback (most recent call last)",
      "Cell \u001b[1;32mIn[7], line 21\u001b[0m\n\u001b[0;32m     18\u001b[0m confusion_mtx \u001b[38;5;241m=\u001b[39m confusion_matrix(y_test, y_pred)\n\u001b[0;32m     19\u001b[0m \u001b[38;5;28mprint\u001b[39m(\u001b[38;5;124m\"\u001b[39m\u001b[38;5;124mConfusion Matrix:\u001b[39m\u001b[38;5;130;01m\\n\u001b[39;00m\u001b[38;5;124m\"\u001b[39m, confusion_mtx)\n\u001b[1;32m---> 21\u001b[0m \u001b[43mplt\u001b[49m\u001b[38;5;241m.\u001b[39mfigure(figsize\u001b[38;5;241m=\u001b[39m(\u001b[38;5;241m8\u001b[39m, \u001b[38;5;241m6\u001b[39m))\n\u001b[0;32m     22\u001b[0m sns\u001b[38;5;241m.\u001b[39mheatmap(confusion_mtx, annot\u001b[38;5;241m=\u001b[39m\u001b[38;5;28;01mTrue\u001b[39;00m, fmt\u001b[38;5;241m=\u001b[39m\u001b[38;5;124m'\u001b[39m\u001b[38;5;124md\u001b[39m\u001b[38;5;124m'\u001b[39m, cmap\u001b[38;5;241m=\u001b[39m\u001b[38;5;124m'\u001b[39m\u001b[38;5;124mBlues\u001b[39m\u001b[38;5;124m'\u001b[39m, xticklabels\u001b[38;5;241m=\u001b[39mlistt, yticklabels\u001b[38;5;241m=\u001b[39mlistt)\n\u001b[0;32m     23\u001b[0m plt\u001b[38;5;241m.\u001b[39mxlabel(\u001b[38;5;124m'\u001b[39m\u001b[38;5;124mPredicted Labels\u001b[39m\u001b[38;5;124m'\u001b[39m)\n",
      "\u001b[1;31mNameError\u001b[0m: name 'plt' is not defined"
     ]
    }
   ],
   "source": [
    "from sklearn.svm import SVC\n",
    "from sklearn.metrics import classification_report, accuracy_score, confusion_matrix\n",
    "import numpy as np\n",
    "class_mapping = {\n",
    "    0: \"downstairs\",  # Replace with your actual class name or label\n",
    "    1: \"resting\",\n",
    "    2: \"squats\",\n",
    "    3: \"standing\",\n",
    "    4: \"upstairs\",\n",
    "    5:  \"walking\" }\n",
    "\n",
    "listt =[]\n",
    "for key in class_mapping.values():\n",
    "    listt.append(key)\n",
    "print(\"Classification Report:\\n\", classification_report(y_test, y_pred))\n",
    "\n",
    "# Generate and print confusion matrix\n",
    "confusion_mtx = confusion_matrix(y_test, y_pred)\n",
    "print(\"Confusion Matrix:\\n\", confusion_mtx)\n",
    "\n",
    "plt.figure(figsize=(8, 6))\n",
    "sns.heatmap(confusion_mtx, annot=True, fmt='d', cmap='Blues', xticklabels=listt, yticklabels=listt)\n",
    "plt.xlabel('Predicted Labels')\n",
    "plt.ylabel('True Labels')\n",
    "plt.title('Confusion Matrix from SVM Model')\n",
    "plt.show()"
   ]
  },
  {
   "cell_type": "code",
   "execution_count": 6,
   "id": "2cb5be10",
   "metadata": {},
   "outputs": [
    {
     "name": "stdout",
     "output_type": "stream",
     "text": [
      "Classification Report:\n",
      "                         Precision        Recall           F1-Score\n",
      "----------------------------------------------------------------------\n",
      "downstairs                0.55           0.83           0.66\n",
      "resting                   1.00           0.72           0.84\n",
      "squats                    0.58           0.45           0.51\n",
      "standing                  0.67           1.00           0.80\n",
      "upstairs                  0.09           0.07           0.08\n",
      "walking                   0.84           0.96           0.89\n",
      "\n"
     ]
    }
   ],
   "source": [
    "class_labels = np.unique(y_test)  # Get unique class labels\n",
    "\n",
    "class_report = classification_report(y_test, y_pred, target_names=listt, output_dict=True)\n",
    "class_report_str = \"Classification Report:\\n\"\n",
    "# Add header\n",
    "class_report_str += \" \" * 10 + \" \" * 15 + \"Precision\" + \" \" * 8 + \"Recall\" + \" \" * 11 + \"F1-Score\\n\"\n",
    "class_report_str += \"-\" * 70 + \"\\n\"\n",
    "\n",
    "# Add individual class metrics\n",
    "for label in class_labels:\n",
    "    class_report_str += f\"{label:10}{' ' * 5}\"\n",
    "    class_report_str += f\"{class_report[label]['precision']:15.2f}\"\n",
    "    class_report_str += f\"{class_report[label]['recall']:15.2f}\"\n",
    "    class_report_str += f\"{class_report[label]['f1-score']:15.2f}\\n\"\n",
    "\n",
    "# Display the modified classification report\n",
    "print(class_report_str)"
   ]
  },
  {
   "cell_type": "markdown",
   "id": "f0b74e45",
   "metadata": {},
   "source": [
    "## XGBOOST\n"
   ]
  },
  {
   "cell_type": "code",
   "execution_count": 34,
   "id": "6bf74c1f",
   "metadata": {},
   "outputs": [
    {
     "name": "stdout",
     "output_type": "stream",
     "text": [
      "Accuracy: 0.6926994906621392\n"
     ]
    },
    {
     "ename": "NameError",
     "evalue": "name 'multilabel_confusion_matrix' is not defined",
     "output_type": "error",
     "traceback": [
      "\u001b[1;31m---------------------------------------------------------------------------\u001b[0m",
      "\u001b[1;31mNameError\u001b[0m                                 Traceback (most recent call last)",
      "Cell \u001b[1;32mIn[34], line 18\u001b[0m\n\u001b[0;32m     15\u001b[0m y_pred \u001b[38;5;241m=\u001b[39m classifier\u001b[38;5;241m.\u001b[39mpredict(X_test)\n\u001b[0;32m     17\u001b[0m \u001b[38;5;66;03m# Calculate multilabel confusion matrix\u001b[39;00m\n\u001b[1;32m---> 18\u001b[0m conf_matrix \u001b[38;5;241m=\u001b[39m \u001b[43mmultilabel_confusion_matrix\u001b[49m(y_test, y_pred)\n\u001b[0;32m     20\u001b[0m \u001b[38;5;66;03m# Display confusion matrix and classification report\u001b[39;00m\n\u001b[0;32m     21\u001b[0m \u001b[38;5;28;01mfor\u001b[39;00m i, conf \u001b[38;5;129;01min\u001b[39;00m \u001b[38;5;28menumerate\u001b[39m(conf_matrix):\n",
      "\u001b[1;31mNameError\u001b[0m: name 'multilabel_confusion_matrix' is not defined"
     ]
    }
   ],
   "source": [
    "from sklearn.preprocessing import LabelBinarizer\n",
    "encoder = LabelBinarizer()\n",
    "\n",
    "labels_train1 = encoder.fit_transform(y_train)\n",
    "#print(labels_train)\n",
    "\n",
    "labels_test1 = encoder.transform(y_test)\n",
    "\n",
    "classifier = XGBClassifier()\n",
    "classifier.fit(X_train, labels_train1)\n",
    "y_pred = classifier.predict(X_test)\n",
    "print(f\"Accuracy:\",accuracy_score(labels_test1, y_pred))\n",
    "\n"
   ]
  },
  {
   "cell_type": "code",
   "execution_count": 39,
   "id": "f6b8adc9",
   "metadata": {},
   "outputs": [
    {
     "name": "stdout",
     "output_type": "stream",
     "text": [
      "Overall Classification Report:\n",
      "               precision    recall  f1-score   support\n",
      "\n",
      "           0       0.56      0.97      0.71        35\n",
      "           1       1.00      0.96      0.98       209\n",
      "           2       1.00      0.44      0.61        71\n",
      "           3       1.00      0.59      0.74        71\n",
      "           4       1.00      0.19      0.31        27\n",
      "           5       0.96      0.62      0.75       176\n",
      "\n",
      "   micro avg       0.93      0.71      0.81       589\n",
      "   macro avg       0.92      0.63      0.68       589\n",
      "weighted avg       0.96      0.71      0.79       589\n",
      " samples avg       0.70      0.71      0.71       589\n",
      "\n"
     ]
    },
    {
     "ename": "ValueError",
     "evalue": "multilabel-indicator is not supported",
     "output_type": "error",
     "traceback": [
      "\u001b[1;31m---------------------------------------------------------------------------\u001b[0m",
      "\u001b[1;31mValueError\u001b[0m                                Traceback (most recent call last)",
      "Cell \u001b[1;32mIn[39], line 20\u001b[0m\n\u001b[0;32m     13\u001b[0m \u001b[38;5;66;03m# Display confusion matrix and classification report\u001b[39;00m\n\u001b[0;32m     14\u001b[0m \u001b[38;5;66;03m#for i, conf in enumerate(conf_matrix):\u001b[39;00m\n\u001b[0;32m     15\u001b[0m \u001b[38;5;66;03m#    print(f\"Confusion Matrix for Label {i}:\\n\", conf)\u001b[39;00m\n\u001b[0;32m     16\u001b[0m \u001b[38;5;66;03m#    print(f\"Classification Report for Label {i}:\\n\", classification_report(y_test[:, i], y_pred[:, i]))\u001b[39;00m\n\u001b[0;32m     17\u001b[0m \n\u001b[0;32m     18\u001b[0m \u001b[38;5;66;03m# Overall metrics\u001b[39;00m\n\u001b[0;32m     19\u001b[0m \u001b[38;5;28mprint\u001b[39m(\u001b[38;5;124m\"\u001b[39m\u001b[38;5;124mOverall Classification Report:\u001b[39m\u001b[38;5;130;01m\\n\u001b[39;00m\u001b[38;5;124m\"\u001b[39m, classification_report(labels_test1, y_pred))\n\u001b[1;32m---> 20\u001b[0m confusion_mtx \u001b[38;5;241m=\u001b[39m \u001b[43mconfusion_matrix\u001b[49m\u001b[43m(\u001b[49m\u001b[43mlabels_test1\u001b[49m\u001b[43m,\u001b[49m\u001b[43m \u001b[49m\u001b[43my_pred\u001b[49m\u001b[43m)\u001b[49m\n\u001b[0;32m     21\u001b[0m \u001b[38;5;28mprint\u001b[39m(\u001b[38;5;124m\"\u001b[39m\u001b[38;5;124mConfusion Matrix:\u001b[39m\u001b[38;5;130;01m\\n\u001b[39;00m\u001b[38;5;124m\"\u001b[39m, confusion_mtx)\n",
      "File \u001b[1;32mH:\\CondaNavigator\\envs\\datasc\\lib\\site-packages\\sklearn\\metrics\\_classification.py:319\u001b[0m, in \u001b[0;36mconfusion_matrix\u001b[1;34m(y_true, y_pred, labels, sample_weight, normalize)\u001b[0m\n\u001b[0;32m    317\u001b[0m y_type, y_true, y_pred \u001b[38;5;241m=\u001b[39m _check_targets(y_true, y_pred)\n\u001b[0;32m    318\u001b[0m \u001b[38;5;28;01mif\u001b[39;00m y_type \u001b[38;5;129;01mnot\u001b[39;00m \u001b[38;5;129;01min\u001b[39;00m (\u001b[38;5;124m\"\u001b[39m\u001b[38;5;124mbinary\u001b[39m\u001b[38;5;124m\"\u001b[39m, \u001b[38;5;124m\"\u001b[39m\u001b[38;5;124mmulticlass\u001b[39m\u001b[38;5;124m\"\u001b[39m):\n\u001b[1;32m--> 319\u001b[0m     \u001b[38;5;28;01mraise\u001b[39;00m \u001b[38;5;167;01mValueError\u001b[39;00m(\u001b[38;5;124m\"\u001b[39m\u001b[38;5;132;01m%s\u001b[39;00m\u001b[38;5;124m is not supported\u001b[39m\u001b[38;5;124m\"\u001b[39m \u001b[38;5;241m%\u001b[39m y_type)\n\u001b[0;32m    321\u001b[0m \u001b[38;5;28;01mif\u001b[39;00m labels \u001b[38;5;129;01mis\u001b[39;00m \u001b[38;5;28;01mNone\u001b[39;00m:\n\u001b[0;32m    322\u001b[0m     labels \u001b[38;5;241m=\u001b[39m unique_labels(y_true, y_pred)\n",
      "\u001b[1;31mValueError\u001b[0m: multilabel-indicator is not supported"
     ]
    }
   ],
   "source": [
    "from xgboost import XGBClassifier\n",
    "from sklearn.metrics import multilabel_confusion_matrix, classification_report\n",
    "# Predict on the test set\n",
    "\n",
    "classifier = XGBClassifier()\n",
    "classifier.fit(X_train, labels_train1)\n",
    "\n",
    "# Predict on the test set\n",
    "y_pred = classifier.predict(X_test)\n",
    "# Calculate multilabel confusion matrix\n",
    "conf_matrix = multilabel_confusion_matrix(labels_test1, y_pred)\n",
    "\n",
    "# Display confusion matrix and classification report\n",
    "#for i, conf in enumerate(conf_matrix):\n",
    "#    print(f\"Confusion Matrix for Label {i}:\\n\", conf)\n",
    "#    print(f\"Classification Report for Label {i}:\\n\", classification_report(y_test[:, i], y_pred[:, i]))\n",
    "\n",
    "# Overall metrics\n",
    "print(\"Overall Classification Report:\\n\", classification_report(labels_test1, y_pred))\n"
   ]
  },
  {
   "cell_type": "code",
   "execution_count": null,
   "id": "8e8bb538",
   "metadata": {},
   "outputs": [],
   "source": []
  }
 ],
 "metadata": {
  "kernelspec": {
   "display_name": "Python 3 (ipykernel)",
   "language": "python",
   "name": "python3"
  },
  "language_info": {
   "codemirror_mode": {
    "name": "ipython",
    "version": 3
   },
   "file_extension": ".py",
   "mimetype": "text/x-python",
   "name": "python",
   "nbconvert_exporter": "python",
   "pygments_lexer": "ipython3",
   "version": "3.9.16"
  }
 },
 "nbformat": 4,
 "nbformat_minor": 5
}
